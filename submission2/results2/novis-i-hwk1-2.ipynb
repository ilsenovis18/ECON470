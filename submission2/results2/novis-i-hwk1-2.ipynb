{
 "cells": [
  {
   "cell_type": "markdown",
   "metadata": {},
   "source": [
    "**Research Methods, Spring 2025**\n",
    "\n",
    "**Author:** Ilse Novis\n",
    "\n"
   ]
  },
  {
   "cell_type": "code",
   "execution_count": 11,
   "metadata": {},
   "outputs": [],
   "source": [
    "# Importing the libraries\n",
    "import pandas as pd\n",
    "from IPython.display import Markdown, display\n",
    "import warnings\n",
    "warnings.simplefilter('ignore')\n",
    "\n",
    "# To run in the terminal:\n",
    "# python submission1/data-code/_BuildFinalData.py\n",
    "\n",
    "# Read output datasets\n",
    "full_ma_data = pd.read_csv('/Users/ilsenovis/Documents/GitHub/ECON470/data/output/full_ma_data.csv')\n",
    "contract_service_area = pd.read_csv('/Users/ilsenovis/Documents/GitHub/ECON470/data/output/contract_service_area.csv')"
   ]
  },
  {
   "cell_type": "markdown",
   "metadata": {},
   "source": [
    "\\newpage"
   ]
  },
  {
   "cell_type": "markdown",
   "metadata": {},
   "source": [
    "**1. Provide a table of the count of plans under each plan type.**"
   ]
  },
  {
   "cell_type": "code",
   "execution_count": 12,
   "metadata": {},
   "outputs": [
    {
     "data": {
      "text/markdown": [
       "| Plan Type                               |   2015 |\n",
       "|:----------------------------------------|-------:|\n",
       "| Medicare Prescription Drug Plan         | 991457 |\n",
       "| Local PPO                               | 704993 |\n",
       "| HMO/HMOPOS                              | 479275 |\n",
       "| Employer/Union Only Direct Contract PDP |  25630 |\n",
       "| Regional PPO                            |  17578 |\n",
       "| PFFS                                    |  13658 |\n",
       "| 1876 Cost                               |   7157 |\n",
       "| MSA                                     |   6518 |\n",
       "| Medicare-Medicaid Plan HMO/HMOPOS       |   4130 |\n",
       "| National PACE                           |   1216 |"
      ],
      "text/plain": [
       "<IPython.core.display.Markdown object>"
      ]
     },
     "metadata": {},
     "output_type": "display_data"
    }
   ],
   "source": [
    "# Pivot table to get the number of plans per type and year\n",
    "plans_per_type = full_ma_data.pivot_table(index='plan_type', columns='year', values='planid', aggfunc='count')\n",
    "# Change the name of the index\n",
    "plans_per_type.index.name = 'Plan Type'\n",
    "# Sort values\n",
    "plans_per_type = plans_per_type.sort_values(by=2015, ascending=False)\n",
    "# Display the table\n",
    "display(Markdown(plans_per_type.to_markdown()))"
   ]
  },
  {
   "cell_type": "markdown",
   "metadata": {},
   "source": [
    "\\newpage"
   ]
  },
  {
   "cell_type": "markdown",
   "metadata": {},
   "source": [
    "**2. Remove all special needs plans (SNP), employer group plans (eghp), and all \"800-series\" plans.**\n",
    "\n"
   ]
  },
  {
   "cell_type": "code",
   "execution_count": 13,
   "metadata": {},
   "outputs": [
    {
     "data": {
      "text/markdown": [
       "| Plan Type                         |   2015 |\n",
       "|:----------------------------------|-------:|\n",
       "| Medicare Prescription Drug Plan   | 269153 |\n",
       "| HMO/HMOPOS                        |  36588 |\n",
       "| Local PPO                         |  16728 |\n",
       "| Regional PPO                      |   8531 |\n",
       "| 1876 Cost                         |   6329 |\n",
       "| PFFS                              |   4232 |\n",
       "| Medicare-Medicaid Plan HMO/HMOPOS |   4130 |\n",
       "| National PACE                     |   1216 |\n",
       "| MSA                               |    232 |"
      ],
      "text/plain": [
       "<IPython.core.display.Markdown object>"
      ]
     },
     "metadata": {},
     "output_type": "display_data"
    }
   ],
   "source": [
    "# Exluce SNP and EGHP plans, and plans between 800 and 899\n",
    "final_ma_data = full_ma_data[(full_ma_data['snp'] == \"No\") & (full_ma_data['eghp'] == \"No\") & ((full_ma_data['planid'] < 800) | (full_ma_data['planid'] >= 900))]\n",
    "plans_per_type = final_ma_data.pivot_table(index='plan_type', columns='year', values='planid', aggfunc='count')\n",
    "# Change the name of the index\n",
    "plans_per_type.index.name = 'Plan Type'\n",
    "# Sort values\n",
    "plans_per_type = plans_per_type.sort_values(by=2015, ascending=False)\n",
    "# Display the table\n",
    "display(Markdown(plans_per_type.to_markdown()))"
   ]
  },
  {
   "cell_type": "markdown",
   "metadata": {},
   "source": [
    "\\newpage"
   ]
  },
  {
   "cell_type": "markdown",
   "metadata": {},
   "source": [
    "**3. Provide a table of the average enrollments for each plan type in 2015.**"
   ]
  },
  {
   "cell_type": "code",
   "execution_count": 14,
   "metadata": {},
   "outputs": [
    {
     "data": {
      "text/markdown": [
       "| Plan Type                         |   Count |   Avg Enrollment |\n",
       "|:----------------------------------|--------:|-----------------:|\n",
       "| Medicare Prescription Drug Plan   |   60236 |              312 |\n",
       "| HMO/HMOPOS                        |    9115 |              849 |\n",
       "| Local PPO                         |    6126 |              311 |\n",
       "| Regional PPO                      |    4853 |              202 |\n",
       "| PFFS                              |    2052 |              125 |\n",
       "| 1876 Cost                         |    2019 |              228 |\n",
       "| Medicare-Medicaid Plan HMO/HMOPOS |     522 |              624 |\n",
       "| National PACE                     |     213 |              140 |\n",
       "| MSA                               |     111 |              108 |"
      ],
      "text/plain": [
       "<IPython.core.display.Markdown object>"
      ]
     },
     "metadata": {},
     "output_type": "display_data"
    }
   ],
   "source": [
    "# Pivot table to get the average enrollment per plan type and year\n",
    "enrollment_per_type = final_ma_data.groupby('plan_type')['avg_enrollment'].agg(['count', 'mean'])\n",
    "# Change the name of the index and columns\n",
    "enrollment_per_type.index.name = 'Plan Type'\n",
    "enrollment_per_type.columns = ['Count', 'Avg Enrollment']\n",
    "# Sort values and format\n",
    "enrollment_per_type = enrollment_per_type.round(0).astype('int').sort_values(by='Count', ascending=False)\n",
    "# Display the table\n",
    "display(Markdown(enrollment_per_type.to_markdown()))"
   ]
  },
  {
   "cell_type": "code",
   "execution_count": 16,
   "metadata": {},
   "outputs": [
    {
     "name": "stdout",
     "output_type": "stream",
     "text": [
      "[NbConvertApp] Converting notebook novis-i-hwk1-2.ipynb to pdf\n",
      "/Users/ilsenovis/opt/anaconda3/lib/python3.9/site-packages/nbconvert/utils/pandoc.py:52: RuntimeWarning: You are using an unsupported version of pandoc (3.6.2).\n",
      "Your version must be at least (1.12.1) but less than (3.0.0).\n",
      "Refer to https://pandoc.org/installing.html.\n",
      "Continuing with doubts...\n",
      "  check_pandoc_version()\n",
      "[NbConvertApp] Writing 21090 bytes to notebook.tex\n",
      "[NbConvertApp] Building PDF\n",
      "Traceback (most recent call last):\n",
      "  File \"/Users/ilsenovis/opt/anaconda3/bin/jupyter-nbconvert\", line 11, in <module>\n",
      "    sys.exit(main())\n",
      "  File \"/Users/ilsenovis/opt/anaconda3/lib/python3.9/site-packages/jupyter_core/application.py\", line 264, in launch_instance\n",
      "    return super(JupyterApp, cls).launch_instance(argv=argv, **kwargs)\n",
      "  File \"/Users/ilsenovis/opt/anaconda3/lib/python3.9/site-packages/traitlets/config/application.py\", line 846, in launch_instance\n",
      "    app.start()\n",
      "  File \"/Users/ilsenovis/opt/anaconda3/lib/python3.9/site-packages/nbconvert/nbconvertapp.py\", line 369, in start\n",
      "    self.convert_notebooks()\n",
      "  File \"/Users/ilsenovis/opt/anaconda3/lib/python3.9/site-packages/nbconvert/nbconvertapp.py\", line 541, in convert_notebooks\n",
      "    self.convert_single_notebook(notebook_filename)\n",
      "  File \"/Users/ilsenovis/opt/anaconda3/lib/python3.9/site-packages/nbconvert/nbconvertapp.py\", line 506, in convert_single_notebook\n",
      "    output, resources = self.export_single_notebook(notebook_filename, resources, input_buffer=input_buffer)\n",
      "  File \"/Users/ilsenovis/opt/anaconda3/lib/python3.9/site-packages/nbconvert/nbconvertapp.py\", line 435, in export_single_notebook\n",
      "    output, resources = self.exporter.from_filename(notebook_filename, resources=resources)\n",
      "  File \"/Users/ilsenovis/opt/anaconda3/lib/python3.9/site-packages/nbconvert/exporters/exporter.py\", line 190, in from_filename\n",
      "    return self.from_file(f, resources=resources, **kw)\n",
      "  File \"/Users/ilsenovis/opt/anaconda3/lib/python3.9/site-packages/nbconvert/exporters/exporter.py\", line 208, in from_file\n",
      "    return self.from_notebook_node(nbformat.read(file_stream, as_version=4), resources=resources, **kw)\n",
      "  File \"/Users/ilsenovis/opt/anaconda3/lib/python3.9/site-packages/nbconvert/exporters/pdf.py\", line 183, in from_notebook_node\n",
      "    self.run_latex(tex_file)\n",
      "  File \"/Users/ilsenovis/opt/anaconda3/lib/python3.9/site-packages/nbconvert/exporters/pdf.py\", line 153, in run_latex\n",
      "    return self.run_command(self.latex_command, filename,\n",
      "  File \"/Users/ilsenovis/opt/anaconda3/lib/python3.9/site-packages/nbconvert/exporters/pdf.py\", line 110, in run_command\n",
      "    raise OSError(\"{formatter} not found on PATH, if you have not installed \"\n",
      "OSError: xelatex not found on PATH, if you have not installed xelatex you may need to do so. Find further instructions at https://nbconvert.readthedocs.io/en/latest/install.html#installing-tex.\n"
     ]
    }
   ],
   "source": [
    "#!jupyter nbconvert --to pdf --no-input -`-output novis-i-hwk1-2.pdf novis-i-hwk1-2.ipynb"
   ]
  },
  {
   "cell_type": "code",
   "execution_count": null,
   "metadata": {},
   "outputs": [],
   "source": []
  }
 ],
 "metadata": {
  "kernelspec": {
   "display_name": "base",
   "language": "python",
   "name": "python3"
  },
  "language_info": {
   "codemirror_mode": {
    "name": "ipython",
    "version": 3
   },
   "file_extension": ".py",
   "mimetype": "text/x-python",
   "name": "python",
   "nbconvert_exporter": "python",
   "pygments_lexer": "ipython3",
   "version": "3.9.12"
  },
  "orig_nbformat": 4
 },
 "nbformat": 4,
 "nbformat_minor": 2
}
